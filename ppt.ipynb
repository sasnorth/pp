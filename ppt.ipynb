{
 "cells": [
  {
   "cell_type": "code",
   "execution_count": 29,
   "id": "e2e8c7bf-26ae-4425-a006-06cc1e7d130a",
   "metadata": {},
   "outputs": [],
   "source": [
    "from pptx import Presentation\n",
    "from pptx.util import Pt, Inches, Cm\n",
    "from pptx.dml.color import RGBColor\n",
    "from pptx.enum.shapes import MSO_SHAPE"
   ]
  },
  {
   "cell_type": "code",
   "execution_count": 2,
   "id": "51abae24-9b9b-429e-a948-f4fe335563e5",
   "metadata": {},
   "outputs": [],
   "source": [
    "# templateとなるpptxファイルを指定する。\n",
    "template_path = \"./template.pptx\"\n",
    "# 出力するpptxファイルを指定する。(存在しない場合、自動作成されます)\n",
    "save_path = \"./output.pptx\""
   ]
  },
  {
   "cell_type": "code",
   "execution_count": 84,
   "id": "bf27a0a6-a6bf-4119-9e62-86dcb51eeb59",
   "metadata": {},
   "outputs": [],
   "source": [
    "presentation = Presentation(template_path)\n",
    "title_slide_layout = presentation.slide_layouts[6]  # レイアウトや書式を元ファイルから参照する(スライドマスターの子ノード)\n",
    "slide = presentation.slides.add_slide(title_slide_layout)\n",
    "shapes = slide.shapes\n",
    "\n",
    "# 図形生成\n",
    "left, top, width, height = 0, 0, Inches(120/9), Inches(7.5)\n",
    "shape1 = shapes.add_shape(MSO_SHAPE.RECTANGLE, left, top, width/4, height)\n",
    "shape2 = shapes.add_shape(MSO_SHAPE.RECTANGLE, left+width/4, top, width/4, height)\n",
    "shape1.line.color.rgb = RGBColor(0,0,0)\n",
    "shape1.fill.solid() #単色\n",
    "shape1.fill.fore_color.rgb = RGBColor(255,0,0)\n",
    "shape1.text = 'Test'\n",
    "\n",
    "# ファイル保存\n",
    "presentation.save(save_path)"
   ]
  },
  {
   "cell_type": "code",
   "execution_count": null,
   "id": "e20ca208-8f47-4406-a3c0-69762809de2c",
   "metadata": {},
   "outputs": [],
   "source": []
  }
 ],
 "metadata": {
  "kernelspec": {
   "display_name": "Python 3 (ipykernel)",
   "language": "python",
   "name": "python3"
  },
  "language_info": {
   "codemirror_mode": {
    "name": "ipython",
    "version": 3
   },
   "file_extension": ".py",
   "mimetype": "text/x-python",
   "name": "python",
   "nbconvert_exporter": "python",
   "pygments_lexer": "ipython3",
   "version": "3.9.7"
  }
 },
 "nbformat": 4,
 "nbformat_minor": 5
}
