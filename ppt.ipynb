{
 "cells": [
  {
   "cell_type": "code",
   "execution_count": 5,
   "id": "e2e8c7bf-26ae-4425-a006-06cc1e7d130a",
   "metadata": {},
   "outputs": [],
   "source": [
    "from pptx import Presentation\n",
    "from pptx.util import Pt, Inches, Cm\n",
    "from pptx.dml.color import RGBColor\n",
    "from pptx.enum.text import PP_ALIGN       # 段落の水平位置のEnume\n",
    "from pptx.enum.dml import MSO_THEME_COLOR # テーマカラーのEnume\n",
    "from pptx.enum.shapes import MSO_SHAPE"
   ]
  },
  {
   "cell_type": "code",
   "execution_count": 6,
   "id": "51abae24-9b9b-429e-a948-f4fe335563e5",
   "metadata": {},
   "outputs": [],
   "source": [
    "# templateとなるpptxファイルを指定する。\n",
    "template_path = \"./template.pptx\"\n",
    "# 出力するpptxファイルを指定する。(存在しない場合、自動作成されます)\n",
    "save_path = \"./output.pptx\""
   ]
  },
  {
   "cell_type": "code",
   "execution_count": 55,
   "id": "bf27a0a6-a6bf-4119-9e62-86dcb51eeb59",
   "metadata": {},
   "outputs": [
    {
     "name": "stdout",
     "output_type": "stream",
     "text": [
      "3048000.0 0\n",
      "6096000.0 0\n",
      "9144000.0 0\n",
      "12192000.0 0\n"
     ]
    }
   ],
   "source": [
    "presentation = Presentation(template_path)\n",
    "title_slide_layout = presentation.slide_layouts[6]  # レイアウトや書式を元ファイルから参照する(スライドマスターの子ノード)\n",
    "slide = presentation.slides.add_slide(title_slide_layout)\n",
    "shapes = slide.shapes\n",
    "\n",
    "# 図形生成\n",
    "n = 4\n",
    "def_left, def_top, def_width, def_height = 0, 0, Inches(120/9), Inches(7.5)\n",
    "frame_w, frame_h = def_width/4, def_height\n",
    "left, top = 0, 0\n",
    "for i in range(n):\n",
    "    # 黒\n",
    "    black = RGBColor(0,0,0)\n",
    "    frame = shapes.add_shape(MSO_SHAPE.RECTANGLE, left, top, frame_w, frame_h)\n",
    "    # shape2 = shapes.add_shape(MSO_SHAPE.RECTANGLE, left+width/4, top, width/4, height)\n",
    "    frame.line.color.rgb = black\n",
    "    frame.fill.solid() #単色\n",
    "    frame.fill.fore_color.rgb = black\n",
    "    \n",
    "    # 白\n",
    "    white = RGBColor(255,255,255)\n",
    "    fr = Pt(3)\n",
    "    frame = shapes.add_shape(MSO_SHAPE.RECTANGLE, left, top+fr, frame_w-fr*1.5, frame_w-fr*1.5)\n",
    "    # shape2 = shapes.add_shape(MSO_SHAPE.RECTANGLE, left+width/4, top, width/4, height)\n",
    "    frame.line.color.rgb = white\n",
    "    frame.fill.solid() #単色\n",
    "    frame.fill.fore_color.rgb = white\n",
    "\n",
    "    text = frame.text_frame.paragraphs[0]\n",
    "    text.text = 'Test'\n",
    "    text.font.size = Pt(30)\n",
    "    # shape1.text = 'Test'\n",
    "\n",
    "    # 赤\n",
    "    white = RGBColor(255,0,0)\n",
    "    fr = Pt(3)\n",
    "    frame = shapes.add_shape(MSO_SHAPE.RECTANGLE, left, top+frame_w+fr, frame_w-fr*1.5, frame_h/8-fr*1.5)\n",
    "    # shape2 = shapes.add_shape(MSO_SHAPE.RECTANGLE, left+width/4, top, width/4, height)\n",
    "    frame.line.color.rgb = white\n",
    "    frame.fill.solid() #単色\n",
    "    frame.fill.fore_color.rgb = white\n",
    "\n",
    "    text = frame.text_frame.paragraphs[0]\n",
    "    text.text = 'Test'\n",
    "    text.font.size = Pt(24)\n",
    "    # shape1.text = 'Test'\n",
    "    \n",
    "    # 灰\n",
    "    white = RGBColor(126,126,126)\n",
    "    fr = Pt(3)\n",
    "    frame = shapes.add_shape(MSO_SHAPE.RECTANGLE, left, top+frame_w*(9/8)+fr, frame_w-fr*1.5, frame_h/4-fr*1.5)\n",
    "    # shape2 = shapes.add_shape(MSO_SHAPE.RECTANGLE, left+width/4, top, width/4, height)\n",
    "    frame.line.color.rgb = white\n",
    "    frame.fill.solid() #単色\n",
    "    frame.fill.fore_color.rgb = white\n",
    "\n",
    "    text = frame.text_frame.paragraphs[0]\n",
    "    text.text = 'Test'\n",
    "    text.font.size = Pt(28)\n",
    "    # shape1.text = 'Test'\n",
    "    \n",
    "    left += frame_w\n",
    "    print(left, top)\n",
    "\n",
    "# ファイル保存\n",
    "presentation.save(save_path)"
   ]
  },
  {
   "cell_type": "code",
   "execution_count": null,
   "id": "e20ca208-8f47-4406-a3c0-69762809de2c",
   "metadata": {},
   "outputs": [],
   "source": []
  }
 ],
 "metadata": {
  "kernelspec": {
   "display_name": "Python 3",
   "language": "python",
   "name": "python3"
  },
  "language_info": {
   "codemirror_mode": {
    "name": "ipython",
    "version": 3
   },
   "file_extension": ".py",
   "mimetype": "text/x-python",
   "name": "python",
   "nbconvert_exporter": "python",
   "pygments_lexer": "ipython3",
   "version": "3.8.8"
  }
 },
 "nbformat": 4,
 "nbformat_minor": 5
}
