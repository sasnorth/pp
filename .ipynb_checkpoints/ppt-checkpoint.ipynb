{
 "cells": [
  {
   "cell_type": "code",
   "execution_count": 29,
   "id": "e2e8c7bf-26ae-4425-a006-06cc1e7d130a",
   "metadata": {},
   "outputs": [],
   "source": [
    "from pptx import Presentation\n",
    "from pptx.util import Pt, Inches, Cm\n",
    "from pptx.dml.color import RGBColor\n",
    "from pptx.enum.shapes import MSO_SHAPE"
   ]
  },
  {
   "cell_type": "code",
   "execution_count": 2,
   "id": "51abae24-9b9b-429e-a948-f4fe335563e5",
   "metadata": {},
   "outputs": [],
   "source": [
    "# templateとなるpptxファイルを指定する。\n",
    "template_path = \"./template.pptx\"\n",
    "# 出力するpptxファイルを指定する。(存在しない場合、自動作成されます)\n",
    "save_path = \"./output.pptx\""
   ]
  },
  {
   "cell_type": "code",
   "execution_count": 80,
   "id": "bf27a0a6-a6bf-4119-9e62-86dcb51eeb59",
   "metadata": {},
   "outputs": [
    {
     "ename": "TypeError",
     "evalue": "'ColorFormat' object is not callable",
     "output_type": "error",
     "traceback": [
      "\u001b[1;31m---------------------------------------------------------------------------\u001b[0m",
      "\u001b[1;31mTypeError\u001b[0m                                 Traceback (most recent call last)",
      "\u001b[1;32m~\\AppData\\Local\\Temp/ipykernel_9588/2674346875.py\u001b[0m in \u001b[0;36m<module>\u001b[1;34m\u001b[0m\n\u001b[0;32m     10\u001b[0m \u001b[0mshape1\u001b[0m\u001b[1;33m.\u001b[0m\u001b[0mline\u001b[0m\u001b[1;33m.\u001b[0m\u001b[0mcolor\u001b[0m\u001b[1;33m.\u001b[0m\u001b[0mrgb\u001b[0m \u001b[1;33m=\u001b[0m \u001b[0mRGBColor\u001b[0m\u001b[1;33m(\u001b[0m\u001b[1;36m0\u001b[0m\u001b[1;33m,\u001b[0m\u001b[1;36m0\u001b[0m\u001b[1;33m,\u001b[0m\u001b[1;36m0\u001b[0m\u001b[1;33m)\u001b[0m\u001b[1;33m\u001b[0m\u001b[1;33m\u001b[0m\u001b[0m\n\u001b[0;32m     11\u001b[0m \u001b[0mshape1\u001b[0m\u001b[1;33m.\u001b[0m\u001b[0mfill\u001b[0m\u001b[1;33m.\u001b[0m\u001b[0msolid\u001b[0m\u001b[1;33m(\u001b[0m\u001b[1;33m)\u001b[0m\u001b[1;33m\u001b[0m\u001b[1;33m\u001b[0m\u001b[0m\n\u001b[1;32m---> 12\u001b[1;33m \u001b[0mshape1\u001b[0m\u001b[1;33m.\u001b[0m\u001b[0mfill\u001b[0m\u001b[1;33m.\u001b[0m\u001b[0mfore_color\u001b[0m\u001b[1;33m(\u001b[0m\u001b[0mRGBColor\u001b[0m\u001b[1;33m(\u001b[0m\u001b[1;36m0\u001b[0m\u001b[1;33m,\u001b[0m\u001b[1;36m0\u001b[0m\u001b[1;33m,\u001b[0m\u001b[1;36m0\u001b[0m\u001b[1;33m)\u001b[0m\u001b[1;33m)\u001b[0m\u001b[1;33m\u001b[0m\u001b[1;33m\u001b[0m\u001b[0m\n\u001b[0m\u001b[0;32m     13\u001b[0m \u001b[1;31m# s.fore_color.rgb = RGBColor(0,0,0)\u001b[0m\u001b[1;33m\u001b[0m\u001b[1;33m\u001b[0m\u001b[0m\n\u001b[0;32m     14\u001b[0m \u001b[0mshape1\u001b[0m\u001b[1;33m.\u001b[0m\u001b[0mtext\u001b[0m \u001b[1;33m=\u001b[0m \u001b[1;34m'Test'\u001b[0m\u001b[1;33m\u001b[0m\u001b[1;33m\u001b[0m\u001b[0m\n",
      "\u001b[1;31mTypeError\u001b[0m: 'ColorFormat' object is not callable"
     ]
    }
   ],
   "source": [
    "presentation = Presentation(template_path)\n",
    "title_slide_layout = presentation.slide_layouts[6]  # レイアウトや書式を元ファイルから参照する(スライドマスターの子ノード)\n",
    "slide = presentation.slides.add_slide(title_slide_layout)\n",
    "shapes = slide.shapes\n",
    "\n",
    "# 図形生成\n",
    "left, top, width, height = 0, 0, Inches(120/9), Inches(7.5)\n",
    "shape1 = shapes.add_shape(MSO_SHAPE.RECTANGLE, left, top, width/4, height)\n",
    "shape2 = shapes.add_shape(MSO_SHAPE.RECTANGLE, left+width/4, top, width/4, height)\n",
    "shape1.line.color.rgb = RGBColor(0,0,0)\n",
    "shape1.fill.solid()\n",
    "shape1.fill.fore_color(RGBColor(0,0,0))\n",
    "# s.fore_color.rgb = RGBColor(0,0,0)\n",
    "shape1.text = 'Test'\n",
    "\n",
    "# ファイル保存\n",
    "presentation.save(save_path)"
   ]
  },
  {
   "cell_type": "code",
   "execution_count": null,
   "id": "e20ca208-8f47-4406-a3c0-69762809de2c",
   "metadata": {},
   "outputs": [],
   "source": []
  }
 ],
 "metadata": {
  "kernelspec": {
   "display_name": "Python 3 (ipykernel)",
   "language": "python",
   "name": "python3"
  },
  "language_info": {
   "codemirror_mode": {
    "name": "ipython",
    "version": 3
   },
   "file_extension": ".py",
   "mimetype": "text/x-python",
   "name": "python",
   "nbconvert_exporter": "python",
   "pygments_lexer": "ipython3",
   "version": "3.9.7"
  }
 },
 "nbformat": 4,
 "nbformat_minor": 5
}
